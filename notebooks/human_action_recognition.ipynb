{
  "metadata": {
    "kernelspec": {
      "language": "python",
      "display_name": "Python 3",
      "name": "python3"
    },
    "language_info": {
      "name": "python",
      "version": "3.10.12",
      "mimetype": "text/x-python",
      "codemirror_mode": {
        "name": "ipython",
        "version": 3
      },
      "pygments_lexer": "ipython3",
      "nbconvert_exporter": "python",
      "file_extension": ".py"
    },
    "kaggle": {
      "accelerator": "gpu",
      "dataSources": [
        {
          "sourceId": 3733921,
          "sourceType": "datasetVersion",
          "datasetId": 2232355
        }
      ],
      "dockerImageVersionId": 30636,
      "isInternetEnabled": true,
      "language": "python",
      "sourceType": "notebook",
      "isGpuEnabled": true
    },
    "colab": {
      "provenance": []
    }
  },
  "nbformat_minor": 0,
  "nbformat": 4,
  "cells": [
    {
      "cell_type": "markdown",
      "source": [
        "# Refrences"
      ],
      "metadata": {
        "id": "t0WUZAiZLRhd"
      }
    },
    {
      "cell_type": "code",
      "source": [
        "# This code was inspired by Kero Ashraf's work. Here is a link to the orgnial Kaggle file. https://www.kaggle.com/code/kirollosashraf/human-action-recognition-har/notebook"
      ],
      "metadata": {
        "id": "EcI8Z2pkLgpn"
      },
      "execution_count": null,
      "outputs": []
    },
    {
      "cell_type": "code",
      "source": [
        "'''\n",
        "This file is inteded to help futrue iterations by giving the devloper a jumpping of point.\n",
        "We could not find an adiquite dataset to produce a model to detect human actions in a classroom ie poiting at the borad, rasing hand, etc\n",
        "Datasets we do not recomend\n",
        "- UCF101\n",
        "- Charades\n",
        "- Something-Something (V2)\n",
        "'''"
      ],
      "metadata": {
        "id": "ganU1MFj0WsW"
      },
      "execution_count": null,
      "outputs": []
    },
    {
      "cell_type": "markdown",
      "source": [
        "# pip install"
      ],
      "metadata": {
        "id": "b1jEdIoGM2-7"
      }
    },
    {
      "cell_type": "code",
      "source": [
        "!pip install numpy\n",
        "!pip install pandas\n",
        "!pip install tensorflow\n",
        "!pip install tqdm\n",
        "!pip install Pillow\n",
        "!pip install seaborn\n",
        "!pip install matplotlib"
      ],
      "metadata": {
        "id": "MkhreXg7M2Gu"
      },
      "execution_count": null,
      "outputs": []
    },
    {
      "cell_type": "markdown",
      "source": [
        "# Importing libraries"
      ],
      "metadata": {
        "id": "26HntOB0JH4R"
      }
    },
    {
      "cell_type": "code",
      "source": [
        "from google.colab import drive\n",
        "drive.mount('/content/drive')"
      ],
      "metadata": {
        "colab": {
          "base_uri": "https://localhost:8080/"
        },
        "id": "PT0hwbCvJhYh",
        "outputId": "f1b3272b-43e6-4ff5-add3-1e803993bb80"
      },
      "execution_count": null,
      "outputs": [
        {
          "output_type": "stream",
          "name": "stdout",
          "text": [
            "Mounted at /content/drive\n"
          ]
        }
      ]
    },
    {
      "cell_type": "code",
      "source": [
        "import os\n",
        "import glob\n",
        "import random\n",
        "import numpy as np\n",
        "import pandas as pd\n",
        "\n",
        "import tensorflow as tf\n",
        "from tensorflow import keras\n",
        "from keras import layers\n",
        "from keras.models import Sequential\n",
        "from keras.layers import Conv2D,MaxPooling2D,Activation, Dropout, Flatten, Dense\n",
        "from tensorflow.keras.preprocessing.image import ImageDataGenerator # Updated import statement\n",
        "\n",
        "from tqdm import tqdm\n",
        "\n",
        "from PIL import Image\n",
        "\n",
        "from tensorflow.keras.utils import to_categorical\n",
        "\n",
        "import seaborn as sns\n",
        "import matplotlib.image as img\n",
        "import matplotlib.pyplot as plt"
      ],
      "metadata": {
        "execution": {
          "iopub.status.busy": "2024-01-11T22:14:27.868899Z",
          "iopub.execute_input": "2024-01-11T22:14:27.869261Z",
          "iopub.status.idle": "2024-01-11T22:14:28.017199Z",
          "shell.execute_reply.started": "2024-01-11T22:14:27.869236Z",
          "shell.execute_reply": "2024-01-11T22:14:28.01625Z"
        },
        "trusted": true,
        "id": "u9SvML1rJH4R"
      },
      "outputs": [],
      "execution_count": null
    },
    {
      "cell_type": "markdown",
      "source": [
        "# 3| Getting the path and Loading the data"
      ],
      "metadata": {
        "id": "caudbWr1JH4S"
      }
    },
    {
      "cell_type": "code",
      "source": [
        "google_drive_path = '/content/drive/MyDrive/Human Action Recognition/'\n",
        "\n",
        "train_data = pd.read_csv(google_drive_path + \"Training_set.csv\")\n",
        "test_data = pd.read_csv(google_drive_path + \"Testing_set.csv\")"
      ],
      "metadata": {
        "execution": {
          "iopub.status.busy": "2024-01-11T22:14:44.2613Z",
          "iopub.execute_input": "2024-01-11T22:14:44.26215Z",
          "iopub.status.idle": "2024-01-11T22:14:44.282774Z",
          "shell.execute_reply.started": "2024-01-11T22:14:44.262117Z",
          "shell.execute_reply": "2024-01-11T22:14:44.282003Z"
        },
        "trusted": true,
        "id": "6rZta57CJH4S"
      },
      "outputs": [],
      "execution_count": null
    },
    {
      "cell_type": "code",
      "source": [
        "train_fol = glob.glob(google_drive_path + \"train/*\")\n",
        "test_fol = glob.glob(google_drive_path + \"test/*\")"
      ],
      "metadata": {
        "execution": {
          "iopub.status.busy": "2024-01-11T22:14:49.654239Z",
          "iopub.execute_input": "2024-01-11T22:14:49.655157Z",
          "iopub.status.idle": "2024-01-11T22:14:49.720266Z",
          "shell.execute_reply.started": "2024-01-11T22:14:49.655126Z",
          "shell.execute_reply": "2024-01-11T22:14:49.719302Z"
        },
        "trusted": true,
        "id": "7fvjLYaTJH4S"
      },
      "outputs": [],
      "execution_count": null
    },
    {
      "cell_type": "code",
      "source": [
        "train_data"
      ],
      "metadata": {
        "execution": {
          "iopub.status.busy": "2024-01-11T22:14:58.953972Z",
          "iopub.execute_input": "2024-01-11T22:14:58.954598Z",
          "iopub.status.idle": "2024-01-11T22:14:58.966431Z",
          "shell.execute_reply.started": "2024-01-11T22:14:58.954568Z",
          "shell.execute_reply": "2024-01-11T22:14:58.965284Z"
        },
        "trusted": true,
        "id": "4Wn54iNvJH4S"
      },
      "outputs": [],
      "execution_count": null
    },
    {
      "cell_type": "code",
      "source": [
        "train_data.label.value_counts()"
      ],
      "metadata": {
        "execution": {
          "iopub.status.busy": "2024-01-11T22:15:11.419783Z",
          "iopub.execute_input": "2024-01-11T22:15:11.420153Z",
          "iopub.status.idle": "2024-01-11T22:15:11.429603Z",
          "shell.execute_reply.started": "2024-01-11T22:15:11.420125Z",
          "shell.execute_reply": "2024-01-11T22:15:11.4287Z"
        },
        "trusted": true,
        "id": "xXXpGBDVJH4T"
      },
      "outputs": [],
      "execution_count": null
    },
    {
      "cell_type": "code",
      "source": [
        "import plotly.express as px\n",
        "HAR = train_data.label.value_counts()\n",
        "fig = px.pie(train_data, values=HAR.values, names=HAR.index, title='Distribution of Human Activity')\n",
        "fig.show()"
      ],
      "metadata": {
        "execution": {
          "iopub.status.busy": "2024-01-11T22:15:56.034271Z",
          "iopub.execute_input": "2024-01-11T22:15:56.035Z",
          "iopub.status.idle": "2024-01-11T22:15:56.08957Z",
          "shell.execute_reply.started": "2024-01-11T22:15:56.034966Z",
          "shell.execute_reply": "2024-01-11T22:15:56.088597Z"
        },
        "trusted": true,
        "id": "di4fJTKLJH4T"
      },
      "outputs": [],
      "execution_count": null
    },
    {
      "cell_type": "code",
      "source": [
        "filename = train_data['filename']\n",
        "\n",
        "situation = train_data['label']"
      ],
      "metadata": {
        "execution": {
          "iopub.status.busy": "2024-01-11T22:16:10.587427Z",
          "iopub.execute_input": "2024-01-11T22:16:10.588301Z",
          "iopub.status.idle": "2024-01-11T22:16:10.592625Z",
          "shell.execute_reply.started": "2024-01-11T22:16:10.588264Z",
          "shell.execute_reply": "2024-01-11T22:16:10.591698Z"
        },
        "trusted": true,
        "id": "kyuEMesBJH4T"
      },
      "outputs": [],
      "execution_count": null
    },
    {
      "cell_type": "code",
      "source": [
        "filename"
      ],
      "metadata": {
        "execution": {
          "iopub.status.busy": "2024-01-11T22:16:18.011025Z",
          "iopub.execute_input": "2024-01-11T22:16:18.011412Z",
          "iopub.status.idle": "2024-01-11T22:16:18.019906Z",
          "shell.execute_reply.started": "2024-01-11T22:16:18.011382Z",
          "shell.execute_reply": "2024-01-11T22:16:18.018873Z"
        },
        "trusted": true,
        "id": "I8oIF6akJH4T"
      },
      "outputs": [],
      "execution_count": null
    },
    {
      "cell_type": "markdown",
      "source": [
        "# 4| Making function that take random path and display the image"
      ],
      "metadata": {
        "id": "_PByT8KSJH4U"
      }
    },
    {
      "cell_type": "code",
      "source": [
        "def displaying_random_images():\n",
        "    num = random.randint(1,10000)\n",
        "    imgg = \"Image_{}.jpg\".format(num)\n",
        "    train = google_drive_path + \"train/\"\n",
        "    if os.path.exists(train+imgg):\n",
        "        testImage = img.imread(train+imgg)\n",
        "        plt.imshow(testImage)\n",
        "        plt.title(\"{}\".format(train_data.loc[train_data['filename'] == \"{}\".format(imgg), 'label'].item()))\n",
        "\n",
        "    else:\n",
        "        print(\"File Path not found \\nSkipping the file!!\")"
      ],
      "metadata": {
        "execution": {
          "iopub.status.busy": "2024-01-11T22:21:18.967304Z",
          "iopub.execute_input": "2024-01-11T22:21:18.967708Z",
          "iopub.status.idle": "2024-01-11T22:21:18.974521Z",
          "shell.execute_reply.started": "2024-01-11T22:21:18.967679Z",
          "shell.execute_reply": "2024-01-11T22:21:18.973338Z"
        },
        "trusted": true,
        "id": "yx1F2O0dJH4U"
      },
      "outputs": [],
      "execution_count": null
    },
    {
      "cell_type": "code",
      "source": [
        "displaying_random_images()"
      ],
      "metadata": {
        "execution": {
          "iopub.status.busy": "2024-01-11T22:21:22.150944Z",
          "iopub.execute_input": "2024-01-11T22:21:22.151306Z",
          "iopub.status.idle": "2024-01-11T22:21:22.63672Z",
          "shell.execute_reply.started": "2024-01-11T22:21:22.151278Z",
          "shell.execute_reply": "2024-01-11T22:21:22.634447Z"
        },
        "trusted": true,
        "id": "Elxh0FL9JH4U"
      },
      "outputs": [],
      "execution_count": null
    },
    {
      "cell_type": "code",
      "source": [
        "displaying_random_images()"
      ],
      "metadata": {
        "execution": {
          "iopub.status.busy": "2024-01-11T22:18:07.458242Z",
          "iopub.execute_input": "2024-01-11T22:18:07.459145Z",
          "iopub.status.idle": "2024-01-11T22:18:07.800585Z",
          "shell.execute_reply.started": "2024-01-11T22:18:07.459109Z",
          "shell.execute_reply": "2024-01-11T22:18:07.799603Z"
        },
        "trusted": true,
        "id": "KMo_Ec3gJH4U"
      },
      "outputs": [],
      "execution_count": null
    },
    {
      "cell_type": "code",
      "source": [
        "displaying_random_images()"
      ],
      "metadata": {
        "execution": {
          "iopub.status.busy": "2024-01-11T22:18:13.05452Z",
          "iopub.execute_input": "2024-01-11T22:18:13.054908Z",
          "iopub.status.idle": "2024-01-11T22:18:13.432241Z",
          "shell.execute_reply.started": "2024-01-11T22:18:13.05488Z",
          "shell.execute_reply": "2024-01-11T22:18:13.431305Z"
        },
        "trusted": true,
        "id": "gDG4-slrJH4U"
      },
      "outputs": [],
      "execution_count": null
    },
    {
      "cell_type": "code",
      "source": [
        "displaying_random_images()"
      ],
      "metadata": {
        "execution": {
          "iopub.status.busy": "2024-01-11T22:18:17.553322Z",
          "iopub.execute_input": "2024-01-11T22:18:17.553734Z",
          "iopub.status.idle": "2024-01-11T22:18:18.114644Z",
          "shell.execute_reply.started": "2024-01-11T22:18:17.553704Z",
          "shell.execute_reply": "2024-01-11T22:18:18.11373Z"
        },
        "trusted": true,
        "id": "sdnrfQCDJH4U"
      },
      "outputs": [],
      "execution_count": null
    },
    {
      "cell_type": "markdown",
      "source": [
        "# 5| Data preprocessing"
      ],
      "metadata": {
        "id": "3mTb0WDcJH4U"
      }
    },
    {
      "cell_type": "code",
      "source": [
        "img_data = []\n",
        "img_label = []\n",
        "length = len(train_fol)\n",
        "for i in (range(len(train_fol)-1)):\n",
        "    t = google_drive_path + 'train/' + filename[i]\n",
        "    temp_img = Image.open(t)\n",
        "    img_data.append(np.asarray(temp_img.resize((160,160))))\n",
        "    img_label.append(situation[i])"
      ],
      "metadata": {
        "execution": {
          "iopub.status.busy": "2024-01-11T22:23:29.404772Z",
          "iopub.execute_input": "2024-01-11T22:23:29.40518Z",
          "iopub.status.idle": "2024-01-11T22:24:52.18708Z",
          "shell.execute_reply.started": "2024-01-11T22:23:29.405146Z",
          "shell.execute_reply": "2024-01-11T22:24:52.185933Z"
        },
        "trusted": true,
        "id": "CvCYVY5OJH4U"
      },
      "outputs": [],
      "execution_count": null
    },
    {
      "cell_type": "code",
      "source": [
        "img_shape= (160,160,3)"
      ],
      "metadata": {
        "execution": {
          "iopub.status.busy": "2024-01-11T22:25:36.549714Z",
          "iopub.execute_input": "2024-01-11T22:25:36.550293Z",
          "iopub.status.idle": "2024-01-11T22:25:36.554436Z",
          "shell.execute_reply.started": "2024-01-11T22:25:36.550264Z",
          "shell.execute_reply": "2024-01-11T22:25:36.553482Z"
        },
        "trusted": true,
        "id": "oYUFso4VJH4U"
      },
      "outputs": [],
      "execution_count": null
    },
    {
      "cell_type": "code",
      "source": [
        "iii = img_data\n",
        "iii = np.asarray(iii)\n",
        "type(iii)"
      ],
      "metadata": {
        "execution": {
          "iopub.status.busy": "2024-01-11T22:31:34.207929Z",
          "iopub.execute_input": "2024-01-11T22:31:34.208312Z",
          "iopub.status.idle": "2024-01-11T22:31:34.521243Z",
          "shell.execute_reply.started": "2024-01-11T22:31:34.208281Z",
          "shell.execute_reply": "2024-01-11T22:31:34.520235Z"
        },
        "trusted": true,
        "id": "ucog83YfJH4U"
      },
      "outputs": [],
      "execution_count": null
    },
    {
      "cell_type": "code",
      "source": [
        "y_train = to_categorical(np.asarray(train_data[\"label\"].factorize()[0]))\n",
        "print(y_train[0])"
      ],
      "metadata": {
        "execution": {
          "iopub.status.busy": "2024-01-11T22:26:31.457425Z",
          "iopub.execute_input": "2024-01-11T22:26:31.457812Z",
          "iopub.status.idle": "2024-01-11T22:26:31.466508Z",
          "shell.execute_reply.started": "2024-01-11T22:26:31.457785Z",
          "shell.execute_reply": "2024-01-11T22:26:31.465206Z"
        },
        "trusted": true,
        "id": "BRPIQfYHJH4V"
      },
      "outputs": [],
      "execution_count": null
    },
    {
      "cell_type": "markdown",
      "source": [
        "# 6| Make an CNN model"
      ],
      "metadata": {
        "id": "n1EmDzZKJH4V"
      }
    },
    {
      "cell_type": "code",
      "source": [
        "efficientnet_model = Sequential()\n",
        "\n",
        "model = tf.keras.applications.EfficientNetB7(include_top=False,\n",
        "                                            input_shape=(160,160,3),\n",
        "                                            pooling =\"avg\",classes=15,\n",
        "                                             weights=\"imagenet\")\n",
        "\n",
        "for layer in model.layers:\n",
        "    layer.trainable=False\n",
        "\n",
        "\n",
        "efficientnet_model.add(model)\n",
        "efficientnet_model.add(Flatten())\n",
        "efficientnet_model.add(Dense(512,activation=\"relu\"))\n",
        "efficientnet_model.add(Dense(15,activation=\"softmax\"))"
      ],
      "metadata": {
        "execution": {
          "iopub.status.busy": "2024-01-11T22:29:52.338415Z",
          "iopub.execute_input": "2024-01-11T22:29:52.338849Z",
          "iopub.status.idle": "2024-01-11T22:30:15.568325Z",
          "shell.execute_reply.started": "2024-01-11T22:29:52.338818Z",
          "shell.execute_reply": "2024-01-11T22:30:15.56688Z"
        },
        "trusted": true,
        "id": "7n26maL8JH4V"
      },
      "outputs": [],
      "execution_count": null
    },
    {
      "cell_type": "code",
      "source": [
        "efficientnet_model.compile(optimizer=\"adam\",loss=\"categorical_crossentropy\",metrics=[\"accuracy\"])"
      ],
      "metadata": {
        "execution": {
          "iopub.status.busy": "2024-01-11T22:30:57.343388Z",
          "iopub.execute_input": "2024-01-11T22:30:57.343759Z",
          "iopub.status.idle": "2024-01-11T22:30:57.3799Z",
          "shell.execute_reply.started": "2024-01-11T22:30:57.343732Z",
          "shell.execute_reply": "2024-01-11T22:30:57.379011Z"
        },
        "trusted": true,
        "id": "lYIOPO9aJH4V"
      },
      "outputs": [],
      "execution_count": null
    },
    {
      "cell_type": "code",
      "source": [
        "efficientnet_model.summary()"
      ],
      "metadata": {
        "execution": {
          "iopub.status.busy": "2024-01-11T22:31:06.865449Z",
          "iopub.execute_input": "2024-01-11T22:31:06.865838Z",
          "iopub.status.idle": "2024-01-11T22:31:06.951669Z",
          "shell.execute_reply.started": "2024-01-11T22:31:06.865808Z",
          "shell.execute_reply": "2024-01-11T22:31:06.950737Z"
        },
        "trusted": true,
        "id": "cK80mSsVJH4V"
      },
      "outputs": [],
      "execution_count": null
    },
    {
      "cell_type": "code",
      "source": [
        "history = efficientnet_model.fit(iii,y_train,epochs=40)"
      ],
      "metadata": {
        "execution": {
          "iopub.status.busy": "2024-01-11T22:31:55.717778Z",
          "iopub.execute_input": "2024-01-11T22:31:55.718623Z",
          "iopub.status.idle": "2024-01-11T23:05:48.70886Z",
          "shell.execute_reply.started": "2024-01-11T22:31:55.718585Z",
          "shell.execute_reply": "2024-01-11T23:05:48.708029Z"
        },
        "trusted": true,
        "id": "iBCNGjYdJH4V"
      },
      "outputs": [],
      "execution_count": null
    },
    {
      "cell_type": "code",
      "source": [
        "losses = history.history[\"loss\"]\n",
        "plt.plot(losses)"
      ],
      "metadata": {
        "execution": {
          "iopub.status.busy": "2024-01-11T23:06:22.197986Z",
          "iopub.execute_input": "2024-01-11T23:06:22.198345Z",
          "iopub.status.idle": "2024-01-11T23:06:22.601479Z",
          "shell.execute_reply.started": "2024-01-11T23:06:22.198316Z",
          "shell.execute_reply": "2024-01-11T23:06:22.600503Z"
        },
        "trusted": true,
        "id": "jkIrsHrsJH4V"
      },
      "outputs": [],
      "execution_count": null
    },
    {
      "cell_type": "code",
      "source": [
        "acc = history.history['accuracy']\n",
        "plt.plot(acc)"
      ],
      "metadata": {
        "execution": {
          "iopub.status.busy": "2024-01-11T23:06:43.141313Z",
          "iopub.execute_input": "2024-01-11T23:06:43.142363Z",
          "iopub.status.idle": "2024-01-11T23:06:43.554358Z",
          "shell.execute_reply.started": "2024-01-11T23:06:43.142324Z",
          "shell.execute_reply": "2024-01-11T23:06:43.553431Z"
        },
        "trusted": true,
        "id": "NWCAX96iJH4V"
      },
      "outputs": [],
      "execution_count": null
    },
    {
      "cell_type": "markdown",
      "source": [
        "# 7| Model predictions"
      ],
      "metadata": {
        "id": "NgEhrUrxJH4V"
      }
    },
    {
      "cell_type": "code",
      "source": [
        "def read_img(fn):\n",
        "    img = Image.open(fn)\n",
        "    return np.asarray(img.resize((160,160)))"
      ],
      "metadata": {
        "execution": {
          "iopub.status.busy": "2024-01-11T23:07:37.024066Z",
          "iopub.execute_input": "2024-01-11T23:07:37.024478Z",
          "iopub.status.idle": "2024-01-11T23:07:37.03064Z",
          "shell.execute_reply.started": "2024-01-11T23:07:37.024445Z",
          "shell.execute_reply": "2024-01-11T23:07:37.029608Z"
        },
        "trusted": true,
        "id": "GY-okroXJH4V"
      },
      "outputs": [],
      "execution_count": null
    },
    {
      "cell_type": "code",
      "source": [
        "def test_predict(test_image):\n",
        "    result = efficientnet_model.predict(np.asarray([read_img(test_image)]))\n",
        "\n",
        "    itemindex = np.where(result==np.max(result))\n",
        "    prediction = itemindex[1][0]\n",
        "    print(\"probability: \"+str(np.max(result)*100) + \"%\\nPredicted class : \", prediction)\n",
        "\n",
        "    image = img.imread(test_image)\n",
        "    plt.imshow(image)\n",
        "    plt.title(prediction)"
      ],
      "metadata": {
        "execution": {
          "iopub.status.busy": "2024-01-11T23:08:49.788022Z",
          "iopub.execute_input": "2024-01-11T23:08:49.788685Z",
          "iopub.status.idle": "2024-01-11T23:08:49.794865Z",
          "shell.execute_reply.started": "2024-01-11T23:08:49.788654Z",
          "shell.execute_reply": "2024-01-11T23:08:49.793827Z"
        },
        "trusted": true,
        "id": "lpXRz9fRJH4V"
      },
      "outputs": [],
      "execution_count": null
    },
    {
      "cell_type": "code",
      "source": [
        "test_predict(google_drive_path + \"test/Image_1001.jpg\")"
      ],
      "metadata": {
        "execution": {
          "iopub.status.busy": "2024-01-11T23:08:50.218036Z",
          "iopub.execute_input": "2024-01-11T23:08:50.218716Z",
          "iopub.status.idle": "2024-01-11T23:08:56.914567Z",
          "shell.execute_reply.started": "2024-01-11T23:08:50.218682Z",
          "shell.execute_reply": "2024-01-11T23:08:56.913637Z"
        },
        "trusted": true,
        "id": "t2GiZs2xJH4W"
      },
      "outputs": [],
      "execution_count": null
    },
    {
      "cell_type": "code",
      "source": [
        "test_predict(google_drive_path + \"test/Image_101.jpg\")"
      ],
      "metadata": {
        "execution": {
          "iopub.status.busy": "2024-01-11T23:09:10.969703Z",
          "iopub.execute_input": "2024-01-11T23:09:10.97061Z",
          "iopub.status.idle": "2024-01-11T23:09:11.548252Z",
          "shell.execute_reply.started": "2024-01-11T23:09:10.970575Z",
          "shell.execute_reply": "2024-01-11T23:09:11.547192Z"
        },
        "trusted": true,
        "id": "CrhztuiDJH4W"
      },
      "outputs": [],
      "execution_count": null
    },
    {
      "cell_type": "code",
      "source": [
        "test_predict(google_drive_path + \"test/Image_1056.jpg\")"
      ],
      "metadata": {
        "execution": {
          "iopub.status.busy": "2024-01-11T23:09:22.979433Z",
          "iopub.execute_input": "2024-01-11T23:09:22.979799Z",
          "iopub.status.idle": "2024-01-11T23:09:23.581891Z",
          "shell.execute_reply.started": "2024-01-11T23:09:22.979773Z",
          "shell.execute_reply": "2024-01-11T23:09:23.580897Z"
        },
        "trusted": true,
        "id": "NkX-b8Y9JH4W"
      },
      "outputs": [],
      "execution_count": null
    },
    {
      "cell_type": "code",
      "source": [
        "test_predict(google_drive_path + \"test/Image_1024.jpg\")"
      ],
      "metadata": {
        "execution": {
          "iopub.status.busy": "2024-01-11T23:10:16.977954Z",
          "iopub.execute_input": "2024-01-11T23:10:16.978336Z",
          "iopub.status.idle": "2024-01-11T23:10:17.624113Z",
          "shell.execute_reply.started": "2024-01-11T23:10:16.978306Z",
          "shell.execute_reply": "2024-01-11T23:10:17.623189Z"
        },
        "trusted": true,
        "id": "Pm29toY_JH4W"
      },
      "outputs": [],
      "execution_count": null
    }
  ]
}