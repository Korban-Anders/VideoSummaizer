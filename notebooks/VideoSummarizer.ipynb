{
  "cells": [
    {
      "cell_type": "markdown",
      "metadata": {
        "id": "K6XlDR5QXsmk"
      },
      "source": [
        "# Mount Google Drive"
      ]
    },
    {
      "cell_type": "code",
      "execution_count": null,
      "metadata": {
        "id": "3n6atxQpXksG"
      },
      "outputs": [],
      "source": [
        "from google.colab import drive\n",
        "drive.mount('/content/drive')\n"
      ]
    },
    {
      "cell_type": "markdown",
      "metadata": {
        "id": "5OFzK35y47y9"
      },
      "source": [
        "# Pip Installs"
      ]
    },
    {
      "cell_type": "code",
      "execution_count": null,
      "metadata": {
        "colab": {
          "base_uri": "https://localhost:8080/"
        },
        "collapsed": true,
        "id": "7uqMgV16jhu4",
        "outputId": "adaa142c-4fea-4a42-990f-7ddc35452dc1"
      },
      "outputs": [
        {
          "name": "stdout",
          "output_type": "stream",
          "text": [
            "Requirement already satisfied: gradio in /usr/local/lib/python3.11/dist-packages (5.27.0)\n",
            "Requirement already satisfied: aiofiles<25.0,>=22.0 in /usr/local/lib/python3.11/dist-packages (from gradio) (24.1.0)\n",
            "Requirement already satisfied: anyio<5.0,>=3.0 in /usr/local/lib/python3.11/dist-packages (from gradio) (4.9.0)\n",
            "Requirement already satisfied: fastapi<1.0,>=0.115.2 in /usr/local/lib/python3.11/dist-packages (from gradio) (0.115.12)\n",
            "Requirement already satisfied: ffmpy in /usr/local/lib/python3.11/dist-packages (from gradio) (0.5.0)\n",
            "Requirement already satisfied: gradio-client==1.9.0 in /usr/local/lib/python3.11/dist-packages (from gradio) (1.9.0)\n",
            "Requirement already satisfied: groovy~=0.1 in /usr/local/lib/python3.11/dist-packages (from gradio) (0.1.2)\n",
            "Requirement already satisfied: httpx>=0.24.1 in /usr/local/lib/python3.11/dist-packages (from gradio) (0.28.1)\n",
            "Requirement already satisfied: huggingface-hub>=0.28.1 in /usr/local/lib/python3.11/dist-packages (from gradio) (0.30.2)\n",
            "Requirement already satisfied: jinja2<4.0 in /usr/local/lib/python3.11/dist-packages (from gradio) (3.1.6)\n",
            "Requirement already satisfied: markupsafe<4.0,>=2.0 in /usr/local/lib/python3.11/dist-packages (from gradio) (3.0.2)\n",
            "Requirement already satisfied: numpy<3.0,>=1.0 in /usr/local/lib/python3.11/dist-packages (from gradio) (2.0.2)\n",
            "Requirement already satisfied: orjson~=3.0 in /usr/local/lib/python3.11/dist-packages (from gradio) (3.10.16)\n",
            "Requirement already satisfied: packaging in /usr/local/lib/python3.11/dist-packages (from gradio) (24.2)\n",
            "Requirement already satisfied: pandas<3.0,>=1.0 in /usr/local/lib/python3.11/dist-packages (from gradio) (2.2.2)\n",
            "Requirement already satisfied: pillow<12.0,>=8.0 in /usr/local/lib/python3.11/dist-packages (from gradio) (10.4.0)\n",
            "Requirement already satisfied: pydantic<2.12,>=2.0 in /usr/local/lib/python3.11/dist-packages (from gradio) (2.11.3)\n",
            "Requirement already satisfied: pydub in /usr/local/lib/python3.11/dist-packages (from gradio) (0.25.1)\n",
            "Requirement already satisfied: python-multipart>=0.0.18 in /usr/local/lib/python3.11/dist-packages (from gradio) (0.0.20)\n",
            "Requirement already satisfied: pyyaml<7.0,>=5.0 in /usr/local/lib/python3.11/dist-packages (from gradio) (6.0.2)\n",
            "Requirement already satisfied: ruff>=0.9.3 in /usr/local/lib/python3.11/dist-packages (from gradio) (0.11.7)\n",
            "Requirement already satisfied: safehttpx<0.2.0,>=0.1.6 in /usr/local/lib/python3.11/dist-packages (from gradio) (0.1.6)\n",
            "Requirement already satisfied: semantic-version~=2.0 in /usr/local/lib/python3.11/dist-packages (from gradio) (2.10.0)\n",
            "Requirement already satisfied: starlette<1.0,>=0.40.0 in /usr/local/lib/python3.11/dist-packages (from gradio) (0.46.2)\n",
            "Requirement already satisfied: tomlkit<0.14.0,>=0.12.0 in /usr/local/lib/python3.11/dist-packages (from gradio) (0.13.2)\n",
            "Requirement already satisfied: typer<1.0,>=0.12 in /usr/local/lib/python3.11/dist-packages (from gradio) (0.15.2)\n",
            "Requirement already satisfied: typing-extensions~=4.0 in /usr/local/lib/python3.11/dist-packages (from gradio) (4.13.2)\n",
            "Requirement already satisfied: uvicorn>=0.14.0 in /usr/local/lib/python3.11/dist-packages (from gradio) (0.34.2)\n",
            "Requirement already satisfied: fsspec in /usr/local/lib/python3.11/dist-packages (from gradio-client==1.9.0->gradio) (2025.3.2)\n",
            "Requirement already satisfied: websockets<16.0,>=10.0 in /usr/local/lib/python3.11/dist-packages (from gradio-client==1.9.0->gradio) (15.0.1)\n",
            "Requirement already satisfied: idna>=2.8 in /usr/local/lib/python3.11/dist-packages (from anyio<5.0,>=3.0->gradio) (3.10)\n",
            "Requirement already satisfied: sniffio>=1.1 in /usr/local/lib/python3.11/dist-packages (from anyio<5.0,>=3.0->gradio) (1.3.1)\n",
            "Requirement already satisfied: certifi in /usr/local/lib/python3.11/dist-packages (from httpx>=0.24.1->gradio) (2025.1.31)\n",
            "Requirement already satisfied: httpcore==1.* in /usr/local/lib/python3.11/dist-packages (from httpx>=0.24.1->gradio) (1.0.8)\n",
            "Requirement already satisfied: h11<0.15,>=0.13 in /usr/local/lib/python3.11/dist-packages (from httpcore==1.*->httpx>=0.24.1->gradio) (0.14.0)\n",
            "Requirement already satisfied: filelock in /usr/local/lib/python3.11/dist-packages (from huggingface-hub>=0.28.1->gradio) (3.18.0)\n",
            "Requirement already satisfied: requests in /usr/local/lib/python3.11/dist-packages (from huggingface-hub>=0.28.1->gradio) (2.32.3)\n",
            "Requirement already satisfied: tqdm>=4.42.1 in /usr/local/lib/python3.11/dist-packages (from huggingface-hub>=0.28.1->gradio) (4.67.1)\n",
            "Requirement already satisfied: python-dateutil>=2.8.2 in /usr/local/lib/python3.11/dist-packages (from pandas<3.0,>=1.0->gradio) (2.8.2)\n",
            "Requirement already satisfied: pytz>=2020.1 in /usr/local/lib/python3.11/dist-packages (from pandas<3.0,>=1.0->gradio) (2025.2)\n",
            "Requirement already satisfied: tzdata>=2022.7 in /usr/local/lib/python3.11/dist-packages (from pandas<3.0,>=1.0->gradio) (2025.2)\n",
            "Requirement already satisfied: annotated-types>=0.6.0 in /usr/local/lib/python3.11/dist-packages (from pydantic<2.12,>=2.0->gradio) (0.7.0)\n",
            "Requirement already satisfied: pydantic-core==2.33.1 in /usr/local/lib/python3.11/dist-packages (from pydantic<2.12,>=2.0->gradio) (2.33.1)\n",
            "Requirement already satisfied: typing-inspection>=0.4.0 in /usr/local/lib/python3.11/dist-packages (from pydantic<2.12,>=2.0->gradio) (0.4.0)\n",
            "Requirement already satisfied: click>=8.0.0 in /usr/local/lib/python3.11/dist-packages (from typer<1.0,>=0.12->gradio) (8.1.8)\n",
            "Requirement already satisfied: shellingham>=1.3.0 in /usr/local/lib/python3.11/dist-packages (from typer<1.0,>=0.12->gradio) (1.5.4)\n",
            "Requirement already satisfied: rich>=10.11.0 in /usr/local/lib/python3.11/dist-packages (from typer<1.0,>=0.12->gradio) (13.9.4)\n",
            "Requirement already satisfied: six>=1.5 in /usr/local/lib/python3.11/dist-packages (from python-dateutil>=2.8.2->pandas<3.0,>=1.0->gradio) (1.17.0)\n",
            "Requirement already satisfied: markdown-it-py>=2.2.0 in /usr/local/lib/python3.11/dist-packages (from rich>=10.11.0->typer<1.0,>=0.12->gradio) (3.0.0)\n",
            "Requirement already satisfied: pygments<3.0.0,>=2.13.0 in /usr/local/lib/python3.11/dist-packages (from rich>=10.11.0->typer<1.0,>=0.12->gradio) (2.18.0)\n",
            "Requirement already satisfied: charset-normalizer<4,>=2 in /usr/local/lib/python3.11/dist-packages (from requests->huggingface-hub>=0.28.1->gradio) (3.4.1)\n",
            "Requirement already satisfied: urllib3<3,>=1.21.1 in /usr/local/lib/python3.11/dist-packages (from requests->huggingface-hub>=0.28.1->gradio) (2.3.0)\n",
            "Requirement already satisfied: mdurl~=0.1 in /usr/local/lib/python3.11/dist-packages (from markdown-it-py>=2.2.0->rich>=10.11.0->typer<1.0,>=0.12->gradio) (0.1.2)\n",
            "Requirement already satisfied: easyocr in /usr/local/lib/python3.11/dist-packages (1.7.2)\n",
            "Requirement already satisfied: torch in /usr/local/lib/python3.11/dist-packages (from easyocr) (2.6.0+cu124)\n",
            "Requirement already satisfied: torchvision>=0.5 in /usr/local/lib/python3.11/dist-packages (from easyocr) (0.21.0+cu124)\n",
            "Requirement already satisfied: opencv-python-headless in /usr/local/lib/python3.11/dist-packages (from easyocr) (4.11.0.86)\n",
            "Requirement already satisfied: scipy in /usr/local/lib/python3.11/dist-packages (from easyocr) (1.14.1)\n",
            "Requirement already satisfied: numpy in /usr/local/lib/python3.11/dist-packages (from easyocr) (2.0.2)\n",
            "Requirement already satisfied: Pillow in /usr/local/lib/python3.11/dist-packages (from easyocr) (10.4.0)\n",
            "Requirement already satisfied: scikit-image in /usr/local/lib/python3.11/dist-packages (from easyocr) (0.25.2)\n",
            "Requirement already satisfied: python-bidi in /usr/local/lib/python3.11/dist-packages (from easyocr) (0.6.6)\n",
            "Requirement already satisfied: PyYAML in /usr/local/lib/python3.11/dist-packages (from easyocr) (6.0.2)\n",
            "Requirement already satisfied: Shapely in /usr/local/lib/python3.11/dist-packages (from easyocr) (2.1.0)\n",
            "Requirement already satisfied: pyclipper in /usr/local/lib/python3.11/dist-packages (from easyocr) (1.3.0.post6)\n",
            "Requirement already satisfied: ninja in /usr/local/lib/python3.11/dist-packages (from easyocr) (1.11.1.4)\n",
            "Requirement already satisfied: filelock in /usr/local/lib/python3.11/dist-packages (from torch->easyocr) (3.18.0)\n",
            "Requirement already satisfied: typing-extensions>=4.10.0 in /usr/local/lib/python3.11/dist-packages (from torch->easyocr) (4.13.2)\n",
            "Requirement already satisfied: networkx in /usr/local/lib/python3.11/dist-packages (from torch->easyocr) (3.4.2)\n",
            "Requirement already satisfied: jinja2 in /usr/local/lib/python3.11/dist-packages (from torch->easyocr) (3.1.6)\n",
            "Requirement already satisfied: fsspec in /usr/local/lib/python3.11/dist-packages (from torch->easyocr) (2025.3.2)\n",
            "Requirement already satisfied: nvidia-cuda-nvrtc-cu12==12.4.127 in /usr/local/lib/python3.11/dist-packages (from torch->easyocr) (12.4.127)\n",
            "Requirement already satisfied: nvidia-cuda-runtime-cu12==12.4.127 in /usr/local/lib/python3.11/dist-packages (from torch->easyocr) (12.4.127)\n",
            "Requirement already satisfied: nvidia-cuda-cupti-cu12==12.4.127 in /usr/local/lib/python3.11/dist-packages (from torch->easyocr) (12.4.127)\n",
            "Requirement already satisfied: nvidia-cudnn-cu12==9.1.0.70 in /usr/local/lib/python3.11/dist-packages (from torch->easyocr) (9.1.0.70)\n",
            "Requirement already satisfied: nvidia-cublas-cu12==12.4.5.8 in /usr/local/lib/python3.11/dist-packages (from torch->easyocr) (12.4.5.8)\n",
            "Requirement already satisfied: nvidia-cufft-cu12==11.2.1.3 in /usr/local/lib/python3.11/dist-packages (from torch->easyocr) (11.2.1.3)\n",
            "Requirement already satisfied: nvidia-curand-cu12==10.3.5.147 in /usr/local/lib/python3.11/dist-packages (from torch->easyocr) (10.3.5.147)\n",
            "Requirement already satisfied: nvidia-cusolver-cu12==11.6.1.9 in /usr/local/lib/python3.11/dist-packages (from torch->easyocr) (11.6.1.9)\n",
            "Requirement already satisfied: nvidia-cusparse-cu12==12.3.1.170 in /usr/local/lib/python3.11/dist-packages (from torch->easyocr) (12.3.1.170)\n",
            "Requirement already satisfied: nvidia-cusparselt-cu12==0.6.2 in /usr/local/lib/python3.11/dist-packages (from torch->easyocr) (0.6.2)\n",
            "Requirement already satisfied: nvidia-nccl-cu12==2.21.5 in /usr/local/lib/python3.11/dist-packages (from torch->easyocr) (2.21.5)\n",
            "Requirement already satisfied: nvidia-nvtx-cu12==12.4.127 in /usr/local/lib/python3.11/dist-packages (from torch->easyocr) (12.4.127)\n",
            "Requirement already satisfied: nvidia-nvjitlink-cu12==12.4.127 in /usr/local/lib/python3.11/dist-packages (from torch->easyocr) (12.4.127)\n",
            "Requirement already satisfied: triton==3.2.0 in /usr/local/lib/python3.11/dist-packages (from torch->easyocr) (3.2.0)\n",
            "Requirement already satisfied: sympy==1.13.1 in /usr/local/lib/python3.11/dist-packages (from torch->easyocr) (1.13.1)\n",
            "Requirement already satisfied: mpmath<1.4,>=1.1.0 in /usr/local/lib/python3.11/dist-packages (from sympy==1.13.1->torch->easyocr) (1.3.0)\n",
            "Requirement already satisfied: imageio!=2.35.0,>=2.33 in /usr/local/lib/python3.11/dist-packages (from scikit-image->easyocr) (2.37.0)\n",
            "Requirement already satisfied: tifffile>=2022.8.12 in /usr/local/lib/python3.11/dist-packages (from scikit-image->easyocr) (2025.3.30)\n",
            "Requirement already satisfied: packaging>=21 in /usr/local/lib/python3.11/dist-packages (from scikit-image->easyocr) (24.2)\n",
            "Requirement already satisfied: lazy-loader>=0.4 in /usr/local/lib/python3.11/dist-packages (from scikit-image->easyocr) (0.4)\n",
            "Requirement already satisfied: MarkupSafe>=2.0 in /usr/local/lib/python3.11/dist-packages (from jinja2->torch->easyocr) (3.0.2)\n",
            "Requirement already satisfied: moviepy in /usr/local/lib/python3.11/dist-packages (2.1.2)\n",
            "Requirement already satisfied: decorator<6.0,>=4.0.2 in /usr/local/lib/python3.11/dist-packages (from moviepy) (4.4.2)\n",
            "Requirement already satisfied: imageio<3.0,>=2.5 in /usr/local/lib/python3.11/dist-packages (from moviepy) (2.37.0)\n",
            "Requirement already satisfied: imageio_ffmpeg>=0.2.0 in /usr/local/lib/python3.11/dist-packages (from moviepy) (0.6.0)\n",
            "Requirement already satisfied: numpy>=1.25.0 in /usr/local/lib/python3.11/dist-packages (from moviepy) (2.0.2)\n",
            "Requirement already satisfied: proglog<=1.0.0 in /usr/local/lib/python3.11/dist-packages (from moviepy) (0.1.11)\n",
            "Requirement already satisfied: python-dotenv>=0.10 in /usr/local/lib/python3.11/dist-packages (from moviepy) (1.1.0)\n",
            "Requirement already satisfied: pillow<11.0,>=9.2.0 in /usr/local/lib/python3.11/dist-packages (from moviepy) (10.4.0)\n",
            "Requirement already satisfied: tqdm in /usr/local/lib/python3.11/dist-packages (from proglog<=1.0.0->moviepy) (4.67.1)\n"
          ]
        }
      ],
      "source": [
        "!pip install gradio\n",
        "!pip install easyocr\n",
        "!pip install moviepy --upgrade\n",
        "!pip install opencv - python\n",
        "!pip install numpy\n",
        "!pip install tqdm"
      ]
    },
    {
      "cell_type": "markdown",
      "metadata": {
        "id": "xYDuQfXI5BAt"
      },
      "source": [
        "# Imports"
      ]
    },
    {
      "cell_type": "code",
      "execution_count": null,
      "metadata": {
        "id": "W660uOeK5FFs"
      },
      "outputs": [],
      "source": [
        "import gradio as gr\n",
        "import easyocr\n",
        "import cv2\n",
        "from collections import Counter\n",
        "import subprocess\n",
        "import os\n",
        "from moviepy import VideoFileClip\n",
        "import os\n",
        "import math\n",
        "from tqdm import tqdm"
      ]
    },
    {
      "cell_type": "markdown",
      "metadata": {
        "id": "HLT3mAPe5HGY"
      },
      "source": [
        "# Process Video"
      ]
    },
    {
      "cell_type": "code",
      "execution_count": null,
      "metadata": {
        "id": "eO_-NHDv5VFC"
      },
      "outputs": [],
      "source": [
        "def process_single_video(video_path):\n",
        "    # Sets up Easy OCR model\n",
        "    screen_reader = easyocr.Reader(['en'], gpu=True) #specify the language(s) and sets up the reader\n",
        "\n",
        "    # Sets up video\n",
        "    video = cv2.VideoCapture(video_path)\n",
        "\n",
        "    # Gets total frames from the video to have a progress bar in termainal\n",
        "    total_frames = int(video.get(cv2.CAP_PROP_FRAME_COUNT))\n",
        "    pbar = tqdm(total=total_frames, desc=\"Processing frames\")\n",
        "\n",
        "    # array to hold every word\n",
        "    all_texts = []\n",
        "    # array that only holds one instance of that word\n",
        "    seen_words = []\n",
        "    frame_count = 0\n",
        "    # Loops through frames\n",
        "    while video.isOpened():\n",
        "        ret, frame = video.read()\n",
        "        if not ret:\n",
        "            break\n",
        "        # Process every 10th frame\n",
        "        if frame_count % 10 == 0:\n",
        "            # Text recognition on the frame\n",
        "            result = screen_reader.readtext(frame)\n",
        "\n",
        "            # Extract all text from the current frame\n",
        "            current_frame_texts = [text[1] for text in result]\n",
        "\n",
        "            # Adds current_frame_texts to\n",
        "            all_texts.extend(current_frame_texts)\n",
        "\n",
        "            for word in current_frame_texts:\n",
        "                if word not in seen_words:\n",
        "                    seen_words.append(word)\n",
        "\n",
        "        frame_count += 1\n",
        "        pbar.update(1)\n",
        "\n",
        "    video.release()\n",
        "    pbar.close()\n",
        "\n",
        "    word_count = Counter(all_texts)\n",
        "\n",
        "    # Filters the reoccurrening words of the most occurring words\n",
        "    filtered_texts = [text for text in seen_words if word_count[text] >= 10] # adjust num as needed\n",
        "\n",
        "    # Grabs all the words into one string\n",
        "    summ_text = \" \".join(filtered_texts)\n",
        "\n",
        "\n",
        "\n",
        "    #convert transcript to segmented_transcript: an array of strings that divides transcript at topic changes\n",
        "    paragraph_breaker_results = subprocess.run(['python', '/content/drive/MyDrive/VideoSummarizer/paragraph_breaker.py', summ_text, '--topical_summary'],\n",
        "                                                capture_output=True,\n",
        "                                                text=True,\n",
        "                                                check=True)\n",
        "    segmented_transcript = paragraph_breaker_results.stdout.strip()\n",
        "\n",
        "    output_file = \"visual_transcript.txt\"\n",
        "    with open(output_file, \"w\") as f:\n",
        "        # Writes the summaries to a text file\n",
        "        f.write(segmented_transcript)\n",
        "\n",
        "    try:\n",
        "        pegasus_test_result = subprocess.run(\n",
        "            ['python', '/content/drive/MyDrive/VideoSummarizer/distilPegasus/pegasus_test.py', output_file],\n",
        "            check=True,\n",
        "            capture_output=True,\n",
        "            text=True\n",
        "        )\n",
        "        summary = pegasus_test_result.stdout.strip()\n",
        "\n",
        "    except subprocess.CalledProcessError as e:\n",
        "        print(\"Pegasus summarization failed!\")\n",
        "        print(\"Exit code:\", e.returncode)\n",
        "        print(\"Error output:\\n\", e.stderr)\n",
        "        summary = \"Pegasus summarization failed\"\n",
        "\n",
        "\n",
        "    return summary"
      ]
    },
    {
      "cell_type": "code",
      "execution_count": null,
      "metadata": {
        "id": "m1iQZEXKdlj_"
      },
      "outputs": [],
      "source": [
        "def process_video(video_path):\n",
        "    # Splits the video into segments if needed\n",
        "    segments = split_video_into_segments(video_path)\n",
        "    if not segments:\n",
        "        segments = [video_path]\n",
        "\n",
        "    # array for all visual summaries\n",
        "    all_visual_summaries = []\n",
        "    for i, segment in segments:\n",
        "       print(f\"Processing visual segment:{segment}\")\n",
        "       # Processes video segment to get the summary\n",
        "       summary = process_single_video(segment)\n",
        "       segment_label = f\"--- Segment {i + 1}: {os.path.basename(segment)} ---\"\n",
        "       all_visual_summaries.append(f\"{segment_label}\\n{summary}\")\n",
        "\n",
        "    # Combines all the summaries into one string\n",
        "    combined_summary = \"\\n\\n\".join(all_visual_summaries)\n",
        "\n",
        "    output_file = \"visual_summary.txt\"\n",
        "    with open(output_file, \"w\") as f:\n",
        "        # Writes the summaries to a text file\n",
        "        f.write(combined_summary)\n",
        "\n",
        "    return combined_summary, output_file"
      ]
    },
    {
      "cell_type": "markdown",
      "metadata": {
        "id": "THuIXHsZ5X6-"
      },
      "source": [
        "# Process Audio"
      ]
    },
    {
      "cell_type": "code",
      "execution_count": null,
      "metadata": {
        "id": "pW3Cc8ZI5eRa"
      },
      "outputs": [],
      "source": [
        "def process_single_audio(audio_path):\n",
        "    #run whisper_test.py, get printed transcript from audio\n",
        "    whisper_test_result = subprocess.run(['python', '/content/drive/MyDrive/VideoSummarizer/distilWhisper/whisper_test.py', audio_path],\n",
        "                                            capture_output=True,\n",
        "                                            text=True,\n",
        "                                            check=True)\n",
        "    transcript = whisper_test_result.stdout.strip()\n",
        "    #print(f\"Audio Transcript:\\n{transcript}\")\n",
        "\n",
        "    #print(f\"Transcript:\\n{transcript}\\n\")\n",
        "\n",
        "    #convert transcript to segmented_transcript: an array of strings that divides transcript at topic changes\n",
        "    paragraph_breaker_results = subprocess.run(['python', '/content/drive/MyDrive/VideoSummarizer/paragraph_breaker.py', transcript, '--topical_summary'],\n",
        "                                                capture_output=True,\n",
        "                                                text=True,\n",
        "                                                check=True)\n",
        "    segmented_transcript = paragraph_breaker_results.stdout.strip()\n",
        "\n",
        "    output_file = \"audio_transcript.txt\"\n",
        "    with open(output_file, \"w\") as f:\n",
        "        # Writes the summaries to a text file\n",
        "        f.write(segmented_transcript)\n",
        "\n",
        "    #pass segmented_transcript to pegasus_test.py and get summary\n",
        "    pegasus_test_result = subprocess.run(['python', '/content/drive/MyDrive/VideoSummarizer/distilPegasus/pegasus_test.py', output_file],\n",
        "                                            check=True,\n",
        "                                            capture_output=True,\n",
        "                                            text=True)\n",
        "    summary = pegasus_test_result.stdout.strip()\n",
        "\n",
        "    return summary\n"
      ]
    },
    {
      "cell_type": "code",
      "execution_count": null,
      "metadata": {
        "id": "A1Xw_z8Pds_H"
      },
      "outputs": [],
      "source": [
        "def process_audio(video_path):\n",
        "    # Splits the video into segments if needed\n",
        "    segments = split_video_into_segments(video_path)\n",
        "    if not segments:\n",
        "        segments = [video_path]\n",
        "\n",
        "    # array for all audio summaries\n",
        "    all_audio_summaries = []\n",
        "    for i, segment in enumerate(segments):\n",
        "        print(f\"Processing audio segment: {segment}\")\n",
        "        # Processes video segment to get the summary\n",
        "        summary = process_single_audio(segment)\n",
        "        segment_label = f\"--- Segment {i + 1}: {os.path.basename(segment)} ---\"\n",
        "        all_audio_summaries.append(f\"{segment_label}\\n{summary}\")\n",
        "\n",
        "    # Combines all the summaries into one string\n",
        "    combined_summary = \"\\n\\n\".join(all_audio_summaries)\n",
        "\n",
        "    output_file = \"audio_summary.txt\"\n",
        "    with open(output_file,\"w\") as f:\n",
        "        # Writes the summaries to a text file\n",
        "        f.write(combined_summary)\n",
        "\n",
        "    return combined_summary, output_file\n"
      ]
    },
    {
      "cell_type": "markdown",
      "metadata": {
        "id": "NdwSEc9MZzUK"
      },
      "source": [
        "# Splice Video"
      ]
    },
    {
      "cell_type": "code",
      "execution_count": null,
      "metadata": {
        "id": "EciJXurFZyNU"
      },
      "outputs": [],
      "source": [
        "def split_video_into_segments(input_path, segment_minutes=5):\n",
        "    video = VideoFileClip(input_path)\n",
        "    duration = video.duration  # in seconds\n",
        "\n",
        "    # Checks if the duration of the video is less than 15 minutes\n",
        "    if duration <= segment_minutes * 60:\n",
        "        print(\"Video is shorter than or equal to 15 minutes. No split needed.\")\n",
        "        return []\n",
        "\n",
        "    # Gets the total number of segements of the video\n",
        "    total_segments = math.ceil(duration / (segment_minutes * 60))\n",
        "    base_filename = os.path.splitext(os.path.basename(input_path))[0]\n",
        "\n",
        "    output_files = []\n",
        "\n",
        "    for i in range(total_segments):\n",
        "        # Breaks the video into segments\n",
        "        start_time = i * segment_minutes * 60\n",
        "        end_time = min((i + 1) * segment_minutes * 60, duration)\n",
        "        segment = video.subclipped(start_time, end_time)\n",
        "\n",
        "        # Saves Video Segments\n",
        "        output_path = f\"{base_filename}_part{i + 1}.mp4\"\n",
        "        segment.write_videofile(output_path, codec='libx264', audio_codec='aac', logger=None)\n",
        "\n",
        "        output_files.append(output_path)\n",
        "        print(f\"Saved segment {i + 1}: {start_time:.2f}s to {end_time:.2f}s -> {output_path}\")\n",
        "\n",
        "    video.close()\n",
        "    print(\"Splitting complete.\")\n",
        "    return output_files"
      ]
    },
    {
      "cell_type": "markdown",
      "metadata": {
        "id": "A67ngvlLa2Bx"
      },
      "source": [
        "# Process Video Segment"
      ]
    },
    {
      "cell_type": "code",
      "execution_count": null,
      "metadata": {
        "id": "r5wbrbQKa7z9"
      },
      "outputs": [],
      "source": [
        "def process_segments(input_path):\n",
        "    segments = split_video_into_segments(input_path)\n",
        "\n",
        "    if not segments:\n",
        "        segments = [input_path]\n",
        "\n",
        "    # Arrays for visual and audio summaries\n",
        "    all_visual_summaries = []\n",
        "    all_audio_summaries = []\n",
        "\n",
        "    for i, segment in enumerate(segments):\n",
        "        print(f\"Processing segment: {segment}\")\n",
        "        # Processes both audio and visual to get their summaries\n",
        "        visual_summary = process_single_video(segment)\n",
        "        audio_summary = process_single_audio(segment)\n",
        "\n",
        "        segment_label = f\"--- Segment {i + 1}: {os.path.basename(segment)} ---\"\n",
        "        all_visual_summaries.append(f\"{segment_label}\\n{visual_summary}\")\n",
        "        all_audio_summaries.append(f\"{segment_label}\\n{audio_summary}\")\n",
        "\n",
        "    # Combine summaries\n",
        "    full_visual_summary = \"\\n\\n\".join(all_visual_summaries)\n",
        "    full_audio_summary = \"\\n\\n\".join(all_audio_summaries)\n",
        "\n",
        "    # Write combined summaries to new files\n",
        "    combined_vis_file = \"combined_visual_summary.txt\"\n",
        "    with open(combined_vis_file, \"w\") as f:\n",
        "        f.write(full_visual_summary)\n",
        "\n",
        "    combined_audio_file = \"combined_audio_summary.txt\"\n",
        "    with open(combined_audio_file, \"w\") as f:\n",
        "        f.write(full_audio_summary)\n",
        "\n",
        "    # Safe guard incase one of the summaries are empty\n",
        "    if not all_visual_summaries:\n",
        "      full_visual_summary = \"No visual summary generated.\"\n",
        "      combined_vis_file = \"\"\n",
        "\n",
        "    if not all_audio_summaries:\n",
        "        full_audio_summary = \"No audio summary generated.\"\n",
        "        combined_audio_file = \"\"\n",
        "\n",
        "    return full_visual_summary, combined_vis_file, full_audio_summary, combined_audio_file\n"
      ]
    },
    {
      "cell_type": "markdown",
      "metadata": {
        "id": "VKSRicBS5fna"
      },
      "source": [
        "# Gradio UI"
      ]
    },
    {
      "cell_type": "code",
      "execution_count": null,
      "metadata": {
        "id": "xkhelNGyin1U"
      },
      "outputs": [],
      "source": [
        "with gr.Blocks() as demo:\n",
        "    with gr.Column():\n",
        "      with gr.Row(equal_height=True):\n",
        "        # Visual summary textbox, Upload a Video file, and Audio summary textbox\n",
        "        left_textbox = gr.Textbox(label=\"Visual Summary\", max_lines=20, scale=1)\n",
        "        video_input = gr.File(label=\"Upload Video\", scale=1)\n",
        "        right_textbox = gr.Textbox(label=\"Audio Summary\", max_lines=20, scale=1)\n",
        "\n",
        "\n",
        "    with gr.Row():\n",
        "        # Process buttons\n",
        "        process_video_button = gr.Button(\"Process Video\")\n",
        "        process_full_button = gr.Button(\"Process Full Video (Audio + Visual)\")\n",
        "        process_audio_button = gr.Button(\"Process Audio\")\n",
        "\n",
        "    with gr.Row():\n",
        "      # Download File\n",
        "      download_vis_file = gr.File(label=\"Download Visual Summary\", visible= False)\n",
        "      download_audio_file = gr.File(label=\"Download Audio Summary\", visible= False)\n",
        "\n",
        "    # Click event for just visual\n",
        "    process_video_button.click(\n",
        "        process_video,\n",
        "        inputs=video_input,\n",
        "        outputs=[left_textbox, download_vis_file]\n",
        "    ).then(\n",
        "      lambda: gr.update(visible=True),\n",
        "      outputs=download_vis_file\n",
        "    )\n",
        "\n",
        "    # Click event for just audio\n",
        "    process_audio_button.click(\n",
        "        process_audio,\n",
        "        inputs=video_input,\n",
        "        outputs=[right_textbox, download_audio_file]\n",
        "    ).then(\n",
        "      lambda: gr.update(visible=True),\n",
        "      outputs=download_audio_file\n",
        "    )\n",
        "\n",
        "    # Click event for both audio and visual\n",
        "    process_full_button.click(\n",
        "        process_segments,\n",
        "        inputs=video_input,\n",
        "        outputs=[left_textbox, download_vis_file, right_textbox, download_audio_file]\n",
        "    ).then(\n",
        "      lambda: (gr.update(visible=True), gr.update(visible=True)),\n",
        "      outputs=[download_vis_file, download_audio_file]\n",
        "    )\n",
        "\n",
        "demo.launch(debug=True)"
      ]
    },
    {
      "cell_type": "markdown",
      "metadata": {
        "id": "L7i6q-FXkn5c"
      },
      "source": [
        "# Sources\n",
        "\n",
        "\n"
      ]
    },
    {
      "cell_type": "code",
      "execution_count": null,
      "metadata": {
        "id": "3Wp3bpEyj6EB"
      },
      "outputs": [],
      "source": [
        "#OCR in the video_model_ocr was based on Huma Gonen's Kraggle Notebook\n",
        "#link: https://www.kaggle.com/code/humagonen/ocr-optical-character-recognition/notebook"
      ]
    }
  ],
  "metadata": {
    "colab": {
      "provenance": []
    },
    "kernelspec": {
      "display_name": "Python 3",
      "name": "python3"
    },
    "language_info": {
      "name": "python"
    }
  },
  "nbformat": 4,
  "nbformat_minor": 0
}
